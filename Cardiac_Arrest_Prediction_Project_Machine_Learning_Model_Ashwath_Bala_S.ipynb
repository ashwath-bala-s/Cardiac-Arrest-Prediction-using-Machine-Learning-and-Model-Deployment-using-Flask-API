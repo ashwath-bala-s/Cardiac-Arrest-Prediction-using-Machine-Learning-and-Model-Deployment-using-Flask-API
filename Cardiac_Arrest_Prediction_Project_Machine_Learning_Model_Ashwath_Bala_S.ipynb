{
  "nbformat": 4,
  "nbformat_minor": 0,
  "metadata": {
    "colab": {
      "provenance": []
    },
    "kernelspec": {
      "name": "python3",
      "display_name": "Python 3"
    },
    "language_info": {
      "name": "python"
    }
  },
  "cells": [
    {
      "cell_type": "markdown",
      "source": [
        "##Cardiac Arrest Prediction Project - Machine Learning Model"
      ],
      "metadata": {
        "id": "Q7wdwyQjgjUp"
      }
    },
    {
      "cell_type": "markdown",
      "source": [
        "##Done By: Ashwath Bala S"
      ],
      "metadata": {
        "id": "3CYK7fd-egn0"
      }
    },
    {
      "cell_type": "markdown",
      "source": [
        "Table of Contents:\n",
        "\n",
        "1.Problem Statement\n",
        "\n",
        "2.Importing the Required Libraries\n",
        "\n",
        "3.Loading the Dataset\n",
        "\n",
        "4.Data Pre-Processing\n",
        "\n",
        "5.Building Cardiac Arrest Prediction Model\n",
        "\n",
        "6.Saving the ML Model for Deployment"
      ],
      "metadata": {
        "id": "A25aGZ1Nenmn"
      }
    },
    {
      "cell_type": "markdown",
      "source": [
        "##1. Problem Statement\n",
        "\n",
        "![Cardiac Arrest Prediction.jpg](data:image/jpeg;base64,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)\n",
        "\n",
        "The aim of this project (A Project on Model Deployment using Flask API) is to build a Machine Learning Project to predict the chances of Cardiac Arrest based on the physical and demographic features of a person and deploy it using Flask API"
      ],
      "metadata": {
        "id": "FWYUfDZjec-8"
      }
    },
    {
      "cell_type": "markdown",
      "source": [
        "##2.Importing the Required Libraries"
      ],
      "metadata": {
        "id": "28bepDkRfCaE"
      }
    },
    {
      "cell_type": "code",
      "metadata": {
        "id": "bQS5qIFeqMoq"
      },
      "source": [
        "# Importing the required libraries and modules\n",
        "import pickle\n",
        "import numpy as np\n",
        "import pandas as pd\n",
        "\n",
        "from sklearn.ensemble import RandomForestClassifier"
      ],
      "execution_count": 9,
      "outputs": []
    },
    {
      "cell_type": "markdown",
      "source": [
        "##3.Loading the Dataset"
      ],
      "metadata": {
        "id": "nOIx3AoYfG1C"
      }
    },
    {
      "cell_type": "code",
      "metadata": {
        "colab": {
          "base_uri": "https://localhost:8080/",
          "height": 206
        },
        "id": "NLRzazCqqjxc",
        "outputId": "78d697f7-4aed-40d2-ebc8-7ee0e17cb280"
      },
      "source": [
        "# Loading the data\n",
        "train = pd.read_csv('Cardiac_arrest_data.csv')\n",
        "train.head()"
      ],
      "execution_count": 3,
      "outputs": [
        {
          "output_type": "execute_result",
          "data": {
            "text/plain": [
              "   Gender  Height  Weight Smoke Alcohol Cardio\n",
              "0    Male     168    62.0    No      No     No\n",
              "1  Female     156    85.0    No      No    Yes\n",
              "2  Female     165    64.0    No      No    Yes\n",
              "3    Male     169    82.0    No      No    Yes\n",
              "4  Female     156    56.0    No      No     No"
            ],
            "text/html": [
              "\n",
              "  <div id=\"df-d1c18be5-407b-46a0-9263-2b505c5a5c7c\" class=\"colab-df-container\">\n",
              "    <div>\n",
              "<style scoped>\n",
              "    .dataframe tbody tr th:only-of-type {\n",
              "        vertical-align: middle;\n",
              "    }\n",
              "\n",
              "    .dataframe tbody tr th {\n",
              "        vertical-align: top;\n",
              "    }\n",
              "\n",
              "    .dataframe thead th {\n",
              "        text-align: right;\n",
              "    }\n",
              "</style>\n",
              "<table border=\"1\" class=\"dataframe\">\n",
              "  <thead>\n",
              "    <tr style=\"text-align: right;\">\n",
              "      <th></th>\n",
              "      <th>Gender</th>\n",
              "      <th>Height</th>\n",
              "      <th>Weight</th>\n",
              "      <th>Smoke</th>\n",
              "      <th>Alcohol</th>\n",
              "      <th>Cardio</th>\n",
              "    </tr>\n",
              "  </thead>\n",
              "  <tbody>\n",
              "    <tr>\n",
              "      <th>0</th>\n",
              "      <td>Male</td>\n",
              "      <td>168</td>\n",
              "      <td>62.0</td>\n",
              "      <td>No</td>\n",
              "      <td>No</td>\n",
              "      <td>No</td>\n",
              "    </tr>\n",
              "    <tr>\n",
              "      <th>1</th>\n",
              "      <td>Female</td>\n",
              "      <td>156</td>\n",
              "      <td>85.0</td>\n",
              "      <td>No</td>\n",
              "      <td>No</td>\n",
              "      <td>Yes</td>\n",
              "    </tr>\n",
              "    <tr>\n",
              "      <th>2</th>\n",
              "      <td>Female</td>\n",
              "      <td>165</td>\n",
              "      <td>64.0</td>\n",
              "      <td>No</td>\n",
              "      <td>No</td>\n",
              "      <td>Yes</td>\n",
              "    </tr>\n",
              "    <tr>\n",
              "      <th>3</th>\n",
              "      <td>Male</td>\n",
              "      <td>169</td>\n",
              "      <td>82.0</td>\n",
              "      <td>No</td>\n",
              "      <td>No</td>\n",
              "      <td>Yes</td>\n",
              "    </tr>\n",
              "    <tr>\n",
              "      <th>4</th>\n",
              "      <td>Female</td>\n",
              "      <td>156</td>\n",
              "      <td>56.0</td>\n",
              "      <td>No</td>\n",
              "      <td>No</td>\n",
              "      <td>No</td>\n",
              "    </tr>\n",
              "  </tbody>\n",
              "</table>\n",
              "</div>\n",
              "    <div class=\"colab-df-buttons\">\n",
              "\n",
              "  <div class=\"colab-df-container\">\n",
              "    <button class=\"colab-df-convert\" onclick=\"convertToInteractive('df-d1c18be5-407b-46a0-9263-2b505c5a5c7c')\"\n",
              "            title=\"Convert this dataframe to an interactive table.\"\n",
              "            style=\"display:none;\">\n",
              "\n",
              "  <svg xmlns=\"http://www.w3.org/2000/svg\" height=\"24px\" viewBox=\"0 -960 960 960\">\n",
              "    <path d=\"M120-120v-720h720v720H120Zm60-500h600v-160H180v160Zm220 220h160v-160H400v160Zm0 220h160v-160H400v160ZM180-400h160v-160H180v160Zm440 0h160v-160H620v160ZM180-180h160v-160H180v160Zm440 0h160v-160H620v160Z\"/>\n",
              "  </svg>\n",
              "    </button>\n",
              "\n",
              "  <style>\n",
              "    .colab-df-container {\n",
              "      display:flex;\n",
              "      gap: 12px;\n",
              "    }\n",
              "\n",
              "    .colab-df-convert {\n",
              "      background-color: #E8F0FE;\n",
              "      border: none;\n",
              "      border-radius: 50%;\n",
              "      cursor: pointer;\n",
              "      display: none;\n",
              "      fill: #1967D2;\n",
              "      height: 32px;\n",
              "      padding: 0 0 0 0;\n",
              "      width: 32px;\n",
              "    }\n",
              "\n",
              "    .colab-df-convert:hover {\n",
              "      background-color: #E2EBFA;\n",
              "      box-shadow: 0px 1px 2px rgba(60, 64, 67, 0.3), 0px 1px 3px 1px rgba(60, 64, 67, 0.15);\n",
              "      fill: #174EA6;\n",
              "    }\n",
              "\n",
              "    .colab-df-buttons div {\n",
              "      margin-bottom: 4px;\n",
              "    }\n",
              "\n",
              "    [theme=dark] .colab-df-convert {\n",
              "      background-color: #3B4455;\n",
              "      fill: #D2E3FC;\n",
              "    }\n",
              "\n",
              "    [theme=dark] .colab-df-convert:hover {\n",
              "      background-color: #434B5C;\n",
              "      box-shadow: 0px 1px 3px 1px rgba(0, 0, 0, 0.15);\n",
              "      filter: drop-shadow(0px 1px 2px rgba(0, 0, 0, 0.3));\n",
              "      fill: #FFFFFF;\n",
              "    }\n",
              "  </style>\n",
              "\n",
              "    <script>\n",
              "      const buttonEl =\n",
              "        document.querySelector('#df-d1c18be5-407b-46a0-9263-2b505c5a5c7c button.colab-df-convert');\n",
              "      buttonEl.style.display =\n",
              "        google.colab.kernel.accessAllowed ? 'block' : 'none';\n",
              "\n",
              "      async function convertToInteractive(key) {\n",
              "        const element = document.querySelector('#df-d1c18be5-407b-46a0-9263-2b505c5a5c7c');\n",
              "        const dataTable =\n",
              "          await google.colab.kernel.invokeFunction('convertToInteractive',\n",
              "                                                    [key], {});\n",
              "        if (!dataTable) return;\n",
              "\n",
              "        const docLinkHtml = 'Like what you see? Visit the ' +\n",
              "          '<a target=\"_blank\" href=https://colab.research.google.com/notebooks/data_table.ipynb>data table notebook</a>'\n",
              "          + ' to learn more about interactive tables.';\n",
              "        element.innerHTML = '';\n",
              "        dataTable['output_type'] = 'display_data';\n",
              "        await google.colab.output.renderOutput(dataTable, element);\n",
              "        const docLink = document.createElement('div');\n",
              "        docLink.innerHTML = docLinkHtml;\n",
              "        element.appendChild(docLink);\n",
              "      }\n",
              "    </script>\n",
              "  </div>\n",
              "\n",
              "\n",
              "<div id=\"df-a42ef05c-3bc5-4e08-9a47-7c75fd06a480\">\n",
              "  <button class=\"colab-df-quickchart\" onclick=\"quickchart('df-a42ef05c-3bc5-4e08-9a47-7c75fd06a480')\"\n",
              "            title=\"Suggest charts\"\n",
              "            style=\"display:none;\">\n",
              "\n",
              "<svg xmlns=\"http://www.w3.org/2000/svg\" height=\"24px\"viewBox=\"0 0 24 24\"\n",
              "     width=\"24px\">\n",
              "    <g>\n",
              "        <path d=\"M19 3H5c-1.1 0-2 .9-2 2v14c0 1.1.9 2 2 2h14c1.1 0 2-.9 2-2V5c0-1.1-.9-2-2-2zM9 17H7v-7h2v7zm4 0h-2V7h2v10zm4 0h-2v-4h2v4z\"/>\n",
              "    </g>\n",
              "</svg>\n",
              "  </button>\n",
              "\n",
              "<style>\n",
              "  .colab-df-quickchart {\n",
              "      --bg-color: #E8F0FE;\n",
              "      --fill-color: #1967D2;\n",
              "      --hover-bg-color: #E2EBFA;\n",
              "      --hover-fill-color: #174EA6;\n",
              "      --disabled-fill-color: #AAA;\n",
              "      --disabled-bg-color: #DDD;\n",
              "  }\n",
              "\n",
              "  [theme=dark] .colab-df-quickchart {\n",
              "      --bg-color: #3B4455;\n",
              "      --fill-color: #D2E3FC;\n",
              "      --hover-bg-color: #434B5C;\n",
              "      --hover-fill-color: #FFFFFF;\n",
              "      --disabled-bg-color: #3B4455;\n",
              "      --disabled-fill-color: #666;\n",
              "  }\n",
              "\n",
              "  .colab-df-quickchart {\n",
              "    background-color: var(--bg-color);\n",
              "    border: none;\n",
              "    border-radius: 50%;\n",
              "    cursor: pointer;\n",
              "    display: none;\n",
              "    fill: var(--fill-color);\n",
              "    height: 32px;\n",
              "    padding: 0;\n",
              "    width: 32px;\n",
              "  }\n",
              "\n",
              "  .colab-df-quickchart:hover {\n",
              "    background-color: var(--hover-bg-color);\n",
              "    box-shadow: 0 1px 2px rgba(60, 64, 67, 0.3), 0 1px 3px 1px rgba(60, 64, 67, 0.15);\n",
              "    fill: var(--button-hover-fill-color);\n",
              "  }\n",
              "\n",
              "  .colab-df-quickchart-complete:disabled,\n",
              "  .colab-df-quickchart-complete:disabled:hover {\n",
              "    background-color: var(--disabled-bg-color);\n",
              "    fill: var(--disabled-fill-color);\n",
              "    box-shadow: none;\n",
              "  }\n",
              "\n",
              "  .colab-df-spinner {\n",
              "    border: 2px solid var(--fill-color);\n",
              "    border-color: transparent;\n",
              "    border-bottom-color: var(--fill-color);\n",
              "    animation:\n",
              "      spin 1s steps(1) infinite;\n",
              "  }\n",
              "\n",
              "  @keyframes spin {\n",
              "    0% {\n",
              "      border-color: transparent;\n",
              "      border-bottom-color: var(--fill-color);\n",
              "      border-left-color: var(--fill-color);\n",
              "    }\n",
              "    20% {\n",
              "      border-color: transparent;\n",
              "      border-left-color: var(--fill-color);\n",
              "      border-top-color: var(--fill-color);\n",
              "    }\n",
              "    30% {\n",
              "      border-color: transparent;\n",
              "      border-left-color: var(--fill-color);\n",
              "      border-top-color: var(--fill-color);\n",
              "      border-right-color: var(--fill-color);\n",
              "    }\n",
              "    40% {\n",
              "      border-color: transparent;\n",
              "      border-right-color: var(--fill-color);\n",
              "      border-top-color: var(--fill-color);\n",
              "    }\n",
              "    60% {\n",
              "      border-color: transparent;\n",
              "      border-right-color: var(--fill-color);\n",
              "    }\n",
              "    80% {\n",
              "      border-color: transparent;\n",
              "      border-right-color: var(--fill-color);\n",
              "      border-bottom-color: var(--fill-color);\n",
              "    }\n",
              "    90% {\n",
              "      border-color: transparent;\n",
              "      border-bottom-color: var(--fill-color);\n",
              "    }\n",
              "  }\n",
              "</style>\n",
              "\n",
              "  <script>\n",
              "    async function quickchart(key) {\n",
              "      const quickchartButtonEl =\n",
              "        document.querySelector('#' + key + ' button');\n",
              "      quickchartButtonEl.disabled = true;  // To prevent multiple clicks.\n",
              "      quickchartButtonEl.classList.add('colab-df-spinner');\n",
              "      try {\n",
              "        const charts = await google.colab.kernel.invokeFunction(\n",
              "            'suggestCharts', [key], {});\n",
              "      } catch (error) {\n",
              "        console.error('Error during call to suggestCharts:', error);\n",
              "      }\n",
              "      quickchartButtonEl.classList.remove('colab-df-spinner');\n",
              "      quickchartButtonEl.classList.add('colab-df-quickchart-complete');\n",
              "    }\n",
              "    (() => {\n",
              "      let quickchartButtonEl =\n",
              "        document.querySelector('#df-a42ef05c-3bc5-4e08-9a47-7c75fd06a480 button');\n",
              "      quickchartButtonEl.style.display =\n",
              "        google.colab.kernel.accessAllowed ? 'block' : 'none';\n",
              "    })();\n",
              "  </script>\n",
              "</div>\n",
              "\n",
              "    </div>\n",
              "  </div>\n"
            ],
            "application/vnd.google.colaboratory.intrinsic+json": {
              "type": "dataframe",
              "variable_name": "train",
              "summary": "{\n  \"name\": \"train\",\n  \"rows\": 70000,\n  \"fields\": [\n    {\n      \"column\": \"Gender\",\n      \"properties\": {\n        \"dtype\": \"category\",\n        \"num_unique_values\": 2,\n        \"samples\": [\n          \"Female\",\n          \"Male\"\n        ],\n        \"semantic_type\": \"\",\n        \"description\": \"\"\n      }\n    },\n    {\n      \"column\": \"Height\",\n      \"properties\": {\n        \"dtype\": \"number\",\n        \"std\": 8,\n        \"min\": 55,\n        \"max\": 250,\n        \"num_unique_values\": 109,\n        \"samples\": [\n          125,\n          181\n        ],\n        \"semantic_type\": \"\",\n        \"description\": \"\"\n      }\n    },\n    {\n      \"column\": \"Weight\",\n      \"properties\": {\n        \"dtype\": \"number\",\n        \"std\": 14.39575667851138,\n        \"min\": 10.0,\n        \"max\": 200.0,\n        \"num_unique_values\": 287,\n        \"samples\": [\n          68.0,\n          88.5\n        ],\n        \"semantic_type\": \"\",\n        \"description\": \"\"\n      }\n    },\n    {\n      \"column\": \"Smoke\",\n      \"properties\": {\n        \"dtype\": \"category\",\n        \"num_unique_values\": 2,\n        \"samples\": [\n          \"Yes\",\n          \"No\"\n        ],\n        \"semantic_type\": \"\",\n        \"description\": \"\"\n      }\n    },\n    {\n      \"column\": \"Alcohol\",\n      \"properties\": {\n        \"dtype\": \"category\",\n        \"num_unique_values\": 2,\n        \"samples\": [\n          \"Yes\",\n          \"No\"\n        ],\n        \"semantic_type\": \"\",\n        \"description\": \"\"\n      }\n    },\n    {\n      \"column\": \"Cardio\",\n      \"properties\": {\n        \"dtype\": \"category\",\n        \"num_unique_values\": 2,\n        \"samples\": [\n          \"Yes\",\n          \"No\"\n        ],\n        \"semantic_type\": \"\",\n        \"description\": \"\"\n      }\n    }\n  ]\n}"
            }
          },
          "metadata": {},
          "execution_count": 3
        }
      ]
    },
    {
      "cell_type": "markdown",
      "metadata": {
        "id": "NNRb7e-7tcN3"
      },
      "source": [
        "##4.Data Pre-Processing"
      ]
    },
    {
      "cell_type": "code",
      "metadata": {
        "id": "uv8Uub7IrGgY"
      },
      "source": [
        "# Converting Categories Into numbers\n",
        "train['Gender'] = train['Gender'].map({'Male':0, 'Female':1})\n",
        "train['Smoke'] = train['Smoke'].map({'No':0, 'Yes':1})\n",
        "train['Alcohol'] = train['Alcohol'].map({'No':0, 'Yes':1})\n",
        "train['Cardio'] = train['Cardio'].map({'No':0, 'Yes':1})"
      ],
      "execution_count": 4,
      "outputs": []
    },
    {
      "cell_type": "markdown",
      "metadata": {
        "id": "Ifz5H-cStl-1"
      },
      "source": [
        "##5. Building Cardiac Arrest Prediction Model"
      ]
    },
    {
      "cell_type": "code",
      "source": [
        "# Separating dependent and independent variables\n",
        "X = train[['Gender', 'Height', 'Weight', 'Smoke', 'Alcohol']]\n",
        "y = train.Cardio.astype(int)"
      ],
      "metadata": {
        "id": "ciOcnC-niGfW"
      },
      "execution_count": 5,
      "outputs": []
    },
    {
      "cell_type": "code",
      "metadata": {
        "id": "Kgc6NBpTrMKJ"
      },
      "source": [
        "# Training the random forest model\n",
        "model = RandomForestClassifier(n_estimators=100, max_depth=5)\n",
        "model.fit(X, y);"
      ],
      "execution_count": 6,
      "outputs": []
    },
    {
      "cell_type": "markdown",
      "metadata": {
        "id": "2TC8Ro-XtoR5"
      },
      "source": [
        "##6. Saving the ML Model for Deployment"
      ]
    },
    {
      "cell_type": "code",
      "metadata": {
        "id": "jUxNxNJdrN78"
      },
      "source": [
        "# saving the model\n",
        "pickle_out = open(\"cardiac_classifier.pkl\", mode = \"wb\")\n",
        "pickle.dump(model, pickle_out)\n",
        "pickle_out.close()"
      ],
      "execution_count": 10,
      "outputs": []
    },
    {
      "cell_type": "markdown",
      "source": [
        "##In this, we have built an Machine Learning model and downloaded the model, which will be the back-end for our Cardiac Arrest Prediction Project (Model Deployment Project),and we will be using model for deploying using Flask"
      ],
      "metadata": {
        "id": "5yd2i-tBfYmI"
      }
    }
  ]
}