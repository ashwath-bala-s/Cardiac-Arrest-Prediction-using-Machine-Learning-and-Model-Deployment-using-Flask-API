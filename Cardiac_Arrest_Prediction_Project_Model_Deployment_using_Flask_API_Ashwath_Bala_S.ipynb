{
  "nbformat": 4,
  "nbformat_minor": 0,
  "metadata": {
    "colab": {
      "provenance": []
    },
    "kernelspec": {
      "name": "python3",
      "display_name": "Python 3"
    },
    "language_info": {
      "name": "python"
    }
  },
  "cells": [
    {
      "cell_type": "markdown",
      "source": [
        "##Cardiac Arrest Prediction Project - Model Deployment using Flask API"
      ],
      "metadata": {
        "id": "foQULfg1jphQ"
      }
    },
    {
      "cell_type": "markdown",
      "source": [
        "##Done By: Ashwath Bala S"
      ],
      "metadata": {
        "id": "mreiIuuLjuhw"
      }
    },
    {
      "cell_type": "markdown",
      "source": [
        "##Table of Contents:\n",
        "\n",
        "1. Problem Statement\n",
        "2. Importing the Required Libraries\n",
        "3. Setting up Front-End\n",
        "4. Setting up Backend and Deploy on Colab\n"
      ],
      "metadata": {
        "id": "-Z09gjrcj4LR"
      }
    },
    {
      "cell_type": "markdown",
      "source": [
        "##1. Problem Statement\n",
        "\n",
        "![Cardiac Arrest Prediction.jpg](data:image/jpeg;base64,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)\n",
        "\n",
        "The aim of this project (A Project on Model Deployment using Flask API) is to build a Machine Learning Project to predict the chances of Cardiac Arrest based on the physical and demographic features of a person and deploy it using Flask API"
      ],
      "metadata": {
        "id": "XLwcXpYkjz_0"
      }
    },
    {
      "cell_type": "markdown",
      "source": [
        "##2. Importing the Required Libraries"
      ],
      "metadata": {
        "id": "pI2I8pBpkL0r"
      }
    },
    {
      "cell_type": "code",
      "metadata": {
        "id": "A2kTu5qxtN2-"
      },
      "source": [
        "# Flask along with ngrok\n",
        "# As a colab dependency\n",
        "!pip install -q flask-ngrok"
      ],
      "execution_count": 1,
      "outputs": []
    },
    {
      "cell_type": "markdown",
      "source": [
        "##3. Setting Up Front-End"
      ],
      "metadata": {
        "id": "hlP5K06dkalP"
      }
    },
    {
      "cell_type": "code",
      "metadata": {
        "id": "ZUxGS7jmtafi",
        "colab": {
          "base_uri": "https://localhost:8080/"
        },
        "outputId": "0017ddf1-a69b-4470-f858-4a367fbfae6a"
      },
      "source": [
        "# Created a folder for HTML/CSS files\n",
        "!mkdir templates"
      ],
      "execution_count": null,
      "outputs": [
        {
          "output_type": "stream",
          "text": [
            "mkdir: cannot create directory ‘templates’: File exists\n"
          ],
          "name": "stdout"
        }
      ]
    },
    {
      "cell_type": "code",
      "source": [
        "# Commented in order to display the code in GitHub\n",
        "\n",
        "# ## Creating a home page for website\n",
        "# %%writefile templates/index.html\n",
        "\n",
        "# <!DOCTYPE html>\n",
        "# <html lang=\"en\">\n",
        "#   <head>\n",
        "#     <meta charset=\"UTF-8\" />\n",
        "#     <title>Cardiac Arrest Prediction</title>\n",
        "#   </head>\n",
        "#   <body>\n",
        "#     <h1>Cardiac Arrest Prediction</h1>\n",
        "#     <form action=\"{{url_for('predict')}}\" method=\"POST\">\n",
        "#       <table style=\"border: 0px; width:100%\">\n",
        "#         <tr>\n",
        "#           <td class=\"select\" style=\"width: 30%;\">Select Gender</td>\n",
        "#           <td style=\"width: 70%;\">\n",
        "#             <select name=\"gender\" id=\"gender\">\n",
        "#               <option value=\"Male\">Male</option>\n",
        "#               <option value=\"Female\">Female</option>\n",
        "#             </select>\n",
        "#           </td>\n",
        "#         </tr>\n",
        "#         <tr>\n",
        "#           <td style=\"width: 30%;\">Height (in cm)</td>\n",
        "#           <td align=\"left\" style=\"width: 70%;\">\n",
        "#             <input\n",
        "#               style=\"width:60%\"\n",
        "#               name=\"height\"\n",
        "#               size=\"25\"\n",
        "#               maxlength=\"25\"\n",
        "#               type=\"text\"\n",
        "#             />\n",
        "#           </td>\n",
        "#         </tr>\n",
        "#         <tr>\n",
        "#           <td style=\"width: 30%;\">Weight (in kg)</td>\n",
        "#           <td align=\"left\" style=\"width: 70%;\">\n",
        "#             <input\n",
        "#               style=\"width:60%\"\n",
        "#               name=\"weight\"\n",
        "#               size=\"25\"\n",
        "#               maxlength=\"25\"\n",
        "#               type=\"text\"\n",
        "#             />\n",
        "#           </td>\n",
        "#         </tr>\n",
        "#         <tr>\n",
        "#           <td class=\"select\" style=\"width: 30%;\">Are you a smoker?</td>\n",
        "#           <td style=\"width: 70%;\">\n",
        "#             <select name=\"smoke\" id=\"smoke\">\n",
        "#               <option value=\"Yes\">Yes</option>\n",
        "#               <option value=\"No\">No</option>\n",
        "#             </select>\n",
        "#           </td>\n",
        "#         </tr>\n",
        "#         <tr>\n",
        "#           <td class=\"select\" style=\"width: 30%;\">\n",
        "#             Do you drink Alcohol frequently?\n",
        "#           </td>\n",
        "\n",
        "#           <td style=\"width: 70%;\">\n",
        "#             <select name=\"alcohol\" id=\"alcohol\">\n",
        "#               <option value=\"Yes\">Yes</option>\n",
        "#               <option value=\"No\">No</option>\n",
        "#             </select>\n",
        "#           </td>\n",
        "#         </tr>\n",
        "#       </table>\n",
        "#       <input\n",
        "#         type=\"submit\"\n",
        "#         value=\"submit\"\n",
        "#         style=\"border: 0px; width: 90px; height: 40px; background: blue; color: white; font-size: 16px; margin-top: 30px;\"\n",
        "#       />\n",
        "#     </form>\n",
        "#     <br />\n",
        "#     {{prediction_text}}\n",
        "#   </body>\n",
        "# </html>"
      ],
      "metadata": {
        "id": "z616y1dcnRCe"
      },
      "execution_count": null,
      "outputs": []
    },
    {
      "cell_type": "code",
      "metadata": {
        "colab": {
          "base_uri": "https://localhost:8080/"
        },
        "id": "Xr-6ZGTyta2p",
        "outputId": "dd673a1d-a723-414b-b847-91e9e4296950"
      },
      "source": [
        "## Creating a home page for website\n",
        "%%writefile templates/index.html\n",
        "\n",
        "<!DOCTYPE html>\n",
        "<html lang=\"en\">\n",
        "  <head>\n",
        "    <meta charset=\"UTF-8\" />\n",
        "    <title>Cardiac Arrest Prediction</title>\n",
        "  </head>\n",
        "  <body>\n",
        "    <h1>Cardiac Arrest Prediction</h1>\n",
        "    <form action=\"{{url_for('predict')}}\" method=\"POST\">\n",
        "      <table style=\"border: 0px; width:100%\">\n",
        "        <tr>\n",
        "          <td class=\"select\" style=\"width: 30%;\">Select Gender</td>\n",
        "          <td style=\"width: 70%;\">\n",
        "            <select name=\"gender\" id=\"gender\">\n",
        "              <option value=\"Male\">Male</option>\n",
        "              <option value=\"Female\">Female</option>\n",
        "            </select>\n",
        "          </td>\n",
        "        </tr>\n",
        "        <tr>\n",
        "          <td style=\"width: 30%;\">Height (in cm)</td>\n",
        "          <td align=\"left\" style=\"width: 70%;\">\n",
        "            <input\n",
        "              style=\"width:60%\"\n",
        "              name=\"height\"\n",
        "              size=\"25\"\n",
        "              maxlength=\"25\"\n",
        "              type=\"text\"\n",
        "            />\n",
        "          </td>\n",
        "        </tr>\n",
        "        <tr>\n",
        "          <td style=\"width: 30%;\">Weight (in kg)</td>\n",
        "          <td align=\"left\" style=\"width: 70%;\">\n",
        "            <input\n",
        "              style=\"width:60%\"\n",
        "              name=\"weight\"\n",
        "              size=\"25\"\n",
        "              maxlength=\"25\"\n",
        "              type=\"text\"\n",
        "            />\n",
        "          </td>\n",
        "        </tr>\n",
        "        <tr>\n",
        "          <td class=\"select\" style=\"width: 30%;\">Are you a smoker?</td>\n",
        "          <td style=\"width: 70%;\">\n",
        "            <select name=\"smoke\" id=\"smoke\">\n",
        "              <option value=\"Yes\">Yes</option>\n",
        "              <option value=\"No\">No</option>\n",
        "            </select>\n",
        "          </td>\n",
        "        </tr>\n",
        "        <tr>\n",
        "          <td class=\"select\" style=\"width: 30%;\">\n",
        "            Do you drink Alcohol frequently?\n",
        "          </td>\n",
        "\n",
        "          <td style=\"width: 70%;\">\n",
        "            <select name=\"alcohol\" id=\"alcohol\">\n",
        "              <option value=\"Yes\">Yes</option>\n",
        "              <option value=\"No\">No</option>\n",
        "            </select>\n",
        "          </td>\n",
        "        </tr>\n",
        "      </table>\n",
        "      <input\n",
        "        type=\"submit\"\n",
        "        value=\"submit\"\n",
        "        style=\"border: 0px; width: 90px; height: 40px; background: blue; color: white; font-size: 16px; margin-top: 30px;\"\n",
        "      />\n",
        "    </form>\n",
        "    <br />\n",
        "    {{prediction_text}}\n",
        "  </body>\n",
        "</html>"
      ],
      "execution_count": null,
      "outputs": [
        {
          "output_type": "stream",
          "text": [
            "Writing templates/index.html\n"
          ],
          "name": "stdout"
        }
      ]
    },
    {
      "cell_type": "markdown",
      "source": [
        "## 4. Setting up Backend and Deploy on Colab"
      ],
      "metadata": {
        "id": "QdvpQr_skeUE"
      }
    },
    {
      "cell_type": "code",
      "metadata": {
        "id": "f4jchpS29Iu6",
        "colab": {
          "base_uri": "https://localhost:8080/"
        },
        "outputId": "276a6d05-4180-4bb9-8f40-fd37ad171e05"
      },
      "source": [
        "# Importing important libraries and modules\n",
        "import pickle\n",
        "\n",
        "from flask import Flask, render_template, request  # important flask modules\n",
        "from flask_ngrok import run_with_ngrok             # ngrok dependency\n",
        "\n",
        "# Creating flask instance and host it using ngrok\n",
        "app = Flask(__name__)\n",
        "run_with_ngrok(app)\n",
        "\n",
        "# Loading the trained model\n",
        "pickle_in = open(\"cardiac_classifier.pkl\", \"rb\")\n",
        "classifier = pickle.load(pickle_in)\n",
        "\n",
        "# Creating a function for handling home page request\n",
        "@app.route(\"/\")\n",
        "def home():\n",
        "    return render_template(\"index.html\")\n",
        "\n",
        "# Creating a function for handling submit button click\n",
        "@app.route(\"/predict\", methods=[\"POST\"])\n",
        "def predict():\n",
        "    # Getting input from user\n",
        "    features = [[x for x in request.form.values()]]\n",
        "\n",
        "    ## Pre-processing input\n",
        "    # Converting  categorical values to numerical\n",
        "    if features[0][0] == \"Male\":\n",
        "        features[0][0] = 0\n",
        "    else:\n",
        "        features[0][0] = 1\n",
        "\n",
        "    # Converting string values to numerical\n",
        "    features[0][1] = int(features[0][1])\n",
        "    features[0][2] = int(features[0][2])\n",
        "\n",
        "    # Converting categorical values to numerical\n",
        "    if features[0][3] == \"Yes\":\n",
        "        features[0][3] = 1\n",
        "    else:\n",
        "        features[0][3] = 0\n",
        "\n",
        "    # Converting categorical values to numerical\n",
        "    if features[0][4] == \"Yes\":\n",
        "        features[0][4] = 1\n",
        "    else:\n",
        "        features[0][4] = 0\n",
        "\n",
        "    # Calling predict function of saved model\n",
        "    result = classifier.predict_proba(features)[0][0]\n",
        "\n",
        "    # Showing result to user\n",
        "    return render_template(\n",
        "        \"index.html\",\n",
        "        prediction_text=\"Your chances of getting a cardiac arrest are {:.2f} %\".format(\n",
        "            result * 100\n",
        "        ),\n",
        "    )\n",
        "\n",
        "# Running flask app\n",
        "if __name__ == \"__main__\":\n",
        "    app.run()"
      ],
      "execution_count": null,
      "outputs": [
        {
          "output_type": "stream",
          "text": [
            " * Serving Flask app \"__main__\" (lazy loading)\n",
            " * Environment: production\n",
            "\u001b[31m   WARNING: This is a development server. Do not use it in a production deployment.\u001b[0m\n",
            "\u001b[2m   Use a production WSGI server instead.\u001b[0m\n",
            " * Debug mode: off\n"
          ],
          "name": "stdout"
        },
        {
          "output_type": "stream",
          "text": [
            " * Running on http://127.0.0.1:5000/ (Press CTRL+C to quit)\n"
          ],
          "name": "stderr"
        },
        {
          "output_type": "stream",
          "text": [
            " * Running on http://d8a1d0554cd4.ngrok.io\n",
            " * Traffic stats available on http://127.0.0.1:4040\n"
          ],
          "name": "stdout"
        },
        {
          "output_type": "stream",
          "text": [
            "127.0.0.1 - - [31/Mar/2021 11:22:55] \"\u001b[37mGET / HTTP/1.1\u001b[0m\" 200 -\n",
            "127.0.0.1 - - [31/Mar/2021 11:22:56] \"\u001b[33mGET /favicon.ico HTTP/1.1\u001b[0m\" 404 -\n",
            "127.0.0.1 - - [31/Mar/2021 11:23:45] \"\u001b[37mPOST /predict HTTP/1.1\u001b[0m\" 200 -\n"
          ],
          "name": "stderr"
        }
      ]
    },
    {
      "cell_type": "markdown",
      "source": [
        "##In this, we have utilized the Machine Model from the pickle file, and performed Model Deployment using Flask API"
      ],
      "metadata": {
        "id": "KZHseanFk8_O"
      }
    }
  ]
}